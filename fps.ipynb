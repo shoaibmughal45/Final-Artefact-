import cv2
import numpy as np
import time
from tflite_runtime.interpreter import Interpreter


def tflite_detect_video_fps(modelpath, videopath, min_conf=0.5):

    # Load the Tensorflow Lite model into memory
    interpreter = Interpreter(model_path=modelpath)
    interpreter.allocate_tensors()

    # Get model details
    input_details = interpreter.get_input_details()
    output_details = interpreter.get_output_details()
    input_shape = input_details[0]['shape']
    height, width = 300, 300  # New dimensions

    float_input = (input_details[0]['dtype'] == np.float32)

    # Open video file
    cap = cv2.VideoCapture(videopath)

    # Initialize variables for FPS calculation
    frame_count = 0
    start_time = time.time()

    while True:
        ret, frame = cap.read()
        if not ret:
            break

        # Resize frame to expected shape [1xHxWx3]
        frame_rgb = cv2.cvtColor(frame, cv2.COLOR_BGR2RGB)
        frame_resized = cv2.resize(frame_rgb, (width, height))
        input_data = np.expand_dims(frame_resized, axis=0)

        # Normalize pixel values if using a floating model (i.e. if model is non-quantized)
        if float_input:
            input_mean = 127.5
            input_std = 127.5
            input_data = (np.float32(input_data) - input_mean) / input_std

        # Perform the actual detection by running the model with the frame as input
        interpreter.set_tensor(input_details[0]['index'], input_data)
        interpreter.invoke()

        # Increment frame count
        frame_count += 1

        # Calculate FPS every 30 frames
        if frame_count % 30 == 0:
            end_time = time.time()
            fps = frame_count / (end_time - start_time)
            print("FPS:", fps)

    # Release video capture
    cap.release()

    return

# Replace these paths with your actual paths
model_path = "detect.tflite"
video_path = "Safety_Full_Hat_and_Vest.mp4"

# Call the function with the provided paths
tflite_detect_video_fps(model_path, video_path)
